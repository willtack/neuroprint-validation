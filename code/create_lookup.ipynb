{
 "cells": [
  {
   "cell_type": "code",
   "execution_count": 12,
   "id": "ee1a625c-eb42-4a44-be54-e6f928694d43",
   "metadata": {},
   "outputs": [],
   "source": [
    "import flywheel\n",
    "import random\n",
    "import pandas as pd\n",
    "import os\n",
    "import datetime \n",
    "fw = flywheel.Client()\n",
    "collection_id = '60eca24fcfdec364fd96c874' # Neuroprint Validation "
   ]
  },
  {
   "cell_type": "code",
   "execution_count": 2,
   "id": "8cc9833f-c95d-4c1a-b857-858c5af45d27",
   "metadata": {},
   "outputs": [],
   "source": [
    "collection_sessions = [fw.get_session(x.id) for x in fw.get_collection_sessions(collection_id)]"
   ]
  },
  {
   "cell_type": "code",
   "execution_count": 3,
   "id": "2097aaaa-1596-4925-9cc8-ce573a6b4bb4",
   "metadata": {},
   "outputs": [],
   "source": [
    "# create list of subject and session labels\n",
    "subject_labels = []\n",
    "session_labels = []\n",
    "for session in collection_sessions:\n",
    "    subject = fw.get(session.parents['subject'])\n",
    "    subject_labels.append(subject.label)\n",
    "    session_labels.append(session.label)\n"
   ]
  },
  {
   "cell_type": "code",
   "execution_count": 4,
   "id": "714dea2b-0623-4f66-aebc-2a24516b2afc",
   "metadata": {},
   "outputs": [
    {
     "name": "stdout",
     "output_type": "stream",
     "text": [
      "['123194x20190603x3T', '119851x20190613x3T', '121105x20170427x3T', '121195x20170523x3T', '121299x20170808x3T']\n",
      "['123194', '119851', '121105', '121195', '121299']\n"
     ]
    }
   ],
   "source": [
    "print(session_labels[0:5])\n",
    "print(subject_labels[0:5])"
   ]
  },
  {
   "cell_type": "code",
   "execution_count": 5,
   "id": "c2631f1c-4686-40e6-aa01-8f282bea2417",
   "metadata": {},
   "outputs": [
    {
     "name": "stdout",
     "output_type": "stream",
     "text": [
      "[31, 25, 16, 19, 24]\n",
      "[33, 15, 41, 49, 11]\n",
      "[31, 18, 26, 43, 35]\n"
     ]
    }
   ],
   "source": [
    "# generate list of numbers from 1 to number of sessions (i.e. images)\n",
    "numbers = list(range(1, len(session_labels) + 1))\n",
    "\n",
    "#stage 1\n",
    "stage1 = numbers.copy()\n",
    "random.shuffle(stage1)\n",
    "print(stage1[0:5])\n",
    "\n",
    "# stage 3\n",
    "stage3 = numbers.copy()\n",
    "random.shuffle(stage3)\n",
    "print(stage3[0:5])\n",
    "\n",
    "# stage 4\n",
    "stage4 = numbers.copy()\n",
    "random.shuffle(stage4)\n",
    "print(stage4[0:5])"
   ]
  },
  {
   "cell_type": "code",
   "execution_count": 6,
   "id": "17afbc2d-24e1-473e-9b82-ff6e0b267056",
   "metadata": {},
   "outputs": [],
   "source": [
    "data = list(zip(subject_labels, session_labels, stage1, stage3, stage4))\n",
    "df = pd.DataFrame(data, columns=['Subject Label', 'Session Label', 'Stage 1', 'Stage 3', 'Stage 4'])"
   ]
  },
  {
   "cell_type": "code",
   "execution_count": 7,
   "id": "4ef30653-1ce9-4675-b580-62f029da16f3",
   "metadata": {},
   "outputs": [
    {
     "data": {
      "text/html": [
       "<div>\n",
       "<style scoped>\n",
       "    .dataframe tbody tr th:only-of-type {\n",
       "        vertical-align: middle;\n",
       "    }\n",
       "\n",
       "    .dataframe tbody tr th {\n",
       "        vertical-align: top;\n",
       "    }\n",
       "\n",
       "    .dataframe thead th {\n",
       "        text-align: right;\n",
       "    }\n",
       "</style>\n",
       "<table border=\"1\" class=\"dataframe\">\n",
       "  <thead>\n",
       "    <tr style=\"text-align: right;\">\n",
       "      <th></th>\n",
       "      <th>Subject Label</th>\n",
       "      <th>Session Label</th>\n",
       "      <th>Stage 1</th>\n",
       "      <th>Stage 3</th>\n",
       "      <th>Stage 4</th>\n",
       "    </tr>\n",
       "  </thead>\n",
       "  <tbody>\n",
       "    <tr>\n",
       "      <th>0</th>\n",
       "      <td>123194</td>\n",
       "      <td>123194x20190603x3T</td>\n",
       "      <td>31</td>\n",
       "      <td>33</td>\n",
       "      <td>31</td>\n",
       "    </tr>\n",
       "    <tr>\n",
       "      <th>1</th>\n",
       "      <td>119851</td>\n",
       "      <td>119851x20190613x3T</td>\n",
       "      <td>25</td>\n",
       "      <td>15</td>\n",
       "      <td>18</td>\n",
       "    </tr>\n",
       "    <tr>\n",
       "      <th>2</th>\n",
       "      <td>121105</td>\n",
       "      <td>121105x20170427x3T</td>\n",
       "      <td>16</td>\n",
       "      <td>41</td>\n",
       "      <td>26</td>\n",
       "    </tr>\n",
       "    <tr>\n",
       "      <th>3</th>\n",
       "      <td>121195</td>\n",
       "      <td>121195x20170523x3T</td>\n",
       "      <td>19</td>\n",
       "      <td>49</td>\n",
       "      <td>43</td>\n",
       "    </tr>\n",
       "    <tr>\n",
       "      <th>4</th>\n",
       "      <td>121299</td>\n",
       "      <td>121299x20170808x3T</td>\n",
       "      <td>24</td>\n",
       "      <td>11</td>\n",
       "      <td>35</td>\n",
       "    </tr>\n",
       "  </tbody>\n",
       "</table>\n",
       "</div>"
      ],
      "text/plain": [
       "  Subject Label       Session Label  Stage 1  Stage 3  Stage 4\n",
       "0        123194  123194x20190603x3T       31       33       31\n",
       "1        119851  119851x20190613x3T       25       15       18\n",
       "2        121105  121105x20170427x3T       16       41       26\n",
       "3        121195  121195x20170523x3T       19       49       43\n",
       "4        121299  121299x20170808x3T       24       11       35"
      ]
     },
     "execution_count": 7,
     "metadata": {},
     "output_type": "execute_result"
    }
   ],
   "source": [
    "df.head()"
   ]
  },
  {
   "cell_type": "code",
   "execution_count": 10,
   "id": "939fa655-e1b7-4534-8814-1a485b290c4e",
   "metadata": {},
   "outputs": [],
   "source": [
    "df.to_csv('lookup_table.csv', index=False)"
   ]
  },
  {
   "cell_type": "code",
   "execution_count": 13,
   "id": "17cc0d8d-bbc2-4a6a-a373-42aabc615ae0",
   "metadata": {},
   "outputs": [
    {
     "data": {
      "text/plain": [
       "0"
      ]
     },
     "execution_count": 13,
     "metadata": {},
     "output_type": "execute_result"
    }
   ],
   "source": [
    "# save the csv in a backups folder with the timestamp\n",
    "datetime = datetime.datetime.now()\n",
    "date = str(datetime).replace(' ', '_')\n",
    "cmd = 'cp lookup_table.csv lookuptable_backups/lookup_table_{}.csv'.format(date)\n",
    "os.system(cmd)"
   ]
  },
  {
   "cell_type": "code",
   "execution_count": null,
   "id": "95d9d295-36ec-4957-b32c-4264a1c40f43",
   "metadata": {},
   "outputs": [],
   "source": []
  }
 ],
 "metadata": {
  "kernelspec": {
   "display_name": "Python 3",
   "language": "python",
   "name": "python3"
  },
  "language_info": {
   "codemirror_mode": {
    "name": "ipython",
    "version": 3
   },
   "file_extension": ".py",
   "mimetype": "text/x-python",
   "name": "python",
   "nbconvert_exporter": "python",
   "pygments_lexer": "ipython3",
   "version": "3.8.8"
  }
 },
 "nbformat": 4,
 "nbformat_minor": 5
}
