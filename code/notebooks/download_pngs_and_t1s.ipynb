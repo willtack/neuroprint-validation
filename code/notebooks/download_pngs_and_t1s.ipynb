{
 "cells": [
  {
   "cell_type": "code",
   "execution_count": 1,
   "id": "748c5e82-a6a1-44c2-8d51-89b5a08eef69",
   "metadata": {},
   "outputs": [],
   "source": [
    "import flywheel\n",
    "import os\n",
    "import datetime\n",
    "from dateutil.tz import tzutc\n",
    "\n",
    "fw = flywheel.Client()\n",
    "project_id = '60fef55e60ec55d1b0e0741e'\n",
    "local_dir = '../heatmaps'\n",
    "os.makedirs(local_dir, exist_ok=True)\n",
    "local_dir2 = '../t1s'\n",
    "os.makedirs(local_dir2, exist_ok=True)"
   ]
  },
  {
   "cell_type": "code",
   "execution_count": 2,
   "id": "d700694c-e8d3-4c2d-b0b2-98523608a0a6",
   "metadata": {},
   "outputs": [],
   "source": [
    "# Get all the sessions within the project.\n",
    "sessions = [fw.get_session(x.id) for x in fw.get_project_sessions(project_id)]"
   ]
  },
  {
   "cell_type": "code",
   "execution_count": 9,
   "id": "6866c314-40a9-47c7-9b7a-c9d027bafd34",
   "metadata": {},
   "outputs": [
    {
     "name": "stdout",
     "output_type": "stream",
     "text": [
      "MR_FOLLOWUP\n",
      "Downloading T1s...\n"
     ]
    },
    {
     "name": "stderr",
     "output_type": "stream",
     "text": [
      "2021-08-30 15:34:07,466 WARNING Retrying (Retry(total=4, connect=None, read=None, redirect=None, status=None)) after connection broken by 'ProtocolError('Connection aborted.', ConnectionResetError(104, 'Connection reset by peer'))': /upenn-center-data/8d/18/8d181a09-3d5f-4cd7-9829-df860e72bf4e?Expires=1630352107&GoogleAccessId=upenn-center-data%40upenn-flywheel.iam.gserviceaccount.com&Signature=XbmljFsVlkDv4753DBrVImzbzYAMe1m85wa2fET3sxSyC4wH3CePTXkH0jCwrmDDaAbZCPDxcBP%2FEIdO8nPAav4idiaMLodhdlA%2FzjjPEZHtBYWH%2BTBvMNZCLmJupER7uhGLVRnqWFlBqyRnoUL7Suhu4KVsPsKVCFzgY39Z8%2FJGAYGAWRh%2FzfB6IwXzIZAB9xhemlWYNL8ZzwTTS8zzd3UnvxB%2FztkpX8tQ2ZjiCPH22QeIQsVBR9zlqZnBxnCEEAPCrHfQSKUPT7swXYHjrI%2FtO2oHjs75%2BOLb%2BaJ0rTF0ghmEo9wFRJX5zMPlNbcih2fYQUPNJJYlTVvV1UmaHw%3D%3D&response-content-disposition=attachment%3B+filename%3D1.3.12.2.1107.5.2.43.167024.2020072209141913637901666.0.0.0.nii.gz&response-content-type=application%2Foctet-stream\n",
      "WARNING:urllib3.connectionpool:Retrying (Retry(total=4, connect=None, read=None, redirect=None, status=None)) after connection broken by 'ProtocolError('Connection aborted.', ConnectionResetError(104, 'Connection reset by peer'))': /upenn-center-data/8d/18/8d181a09-3d5f-4cd7-9829-df860e72bf4e?Expires=1630352107&GoogleAccessId=upenn-center-data%40upenn-flywheel.iam.gserviceaccount.com&Signature=XbmljFsVlkDv4753DBrVImzbzYAMe1m85wa2fET3sxSyC4wH3CePTXkH0jCwrmDDaAbZCPDxcBP%2FEIdO8nPAav4idiaMLodhdlA%2FzjjPEZHtBYWH%2BTBvMNZCLmJupER7uhGLVRnqWFlBqyRnoUL7Suhu4KVsPsKVCFzgY39Z8%2FJGAYGAWRh%2FzfB6IwXzIZAB9xhemlWYNL8ZzwTTS8zzd3UnvxB%2FztkpX8tQ2ZjiCPH22QeIQsVBR9zlqZnBxnCEEAPCrHfQSKUPT7swXYHjrI%2FtO2oHjs75%2BOLb%2BaJ0rTF0ghmEo9wFRJX5zMPlNbcih2fYQUPNJJYlTVvV1UmaHw%3D%3D&response-content-disposition=attachment%3B+filename%3D1.3.12.2.1107.5.2.43.167024.2020072209141913637901666.0.0.0.nii.gz&response-content-type=application%2Foctet-stream\n"
     ]
    },
    {
     "name": "stdout",
     "output_type": "stream",
     "text": [
      "\n",
      "120870x20191205x3T\n",
      "Downloading T1s...\n",
      "Downloading T1s...\n",
      "\n",
      "MR_BASELINE\n",
      "Downloading T1s...\n",
      "\n",
      "124022x20191210x3T\n",
      "Downloading T1s...\n",
      "Downloading T1s...\n",
      "\n",
      "MR_BASELINE\n",
      "Downloading T1s...\n",
      "\n"
     ]
    }
   ],
   "source": [
    "for session in sessions:\n",
    "    print(session.label)\n",
    "    \n",
    "    for acq in session.acquisitions():\n",
    "        subject = fw.get(session.parents['subject'])\n",
    "        if 'MPRAGE' in acq.label or 'T1' in acq.label:\n",
    "            for f in acq.files:\n",
    "                if 'nii' in f.name:\n",
    "                    newfilename = 'sub-{}_ses-{}_t1.nii.gz'.format(subject.label, session.label)\n",
    "                    try:\n",
    "                        print(\"Downloading T1s...\")\n",
    "                        acq.download_file(f.name, os.path.join(local_dir2, newfilename))\n",
    "                    except IndexError as e:\n",
    "                        print(\"Could not download T1w nifti from {}.\".format(session.label))\n",
    "    exit\n",
    "    for analysis in session.analyses:\n",
    "        if analysis.label.startswith('wscore_') and analysis.job['state']=='complete' and analysis.files:\n",
    "            print(analysis.label)\n",
    "            png_files = [f for f in analysis.files if f.name.endswith('png') and '1.0' in f.name]\n",
    "            try:\n",
    "                print(\"Downloading heatmaps...\")\n",
    "                analysis.download_file(png_files[0].name, os.path.join(local_dir, png_files[0].name))\n",
    "                #analysis.download_file(png_files[1].name, os.path.join(local_dir, png_files[1].name))\n",
    "            except IndexError as e:\n",
    "                print(e)\n",
    "                print(\"Could not download heatmap(s) from {}.\".format(session.label))\n",
    "                \n",
    "    print(\"\")"
   ]
  },
  {
   "cell_type": "code",
   "execution_count": null,
   "id": "3da68f8d-dca9-4cb4-a403-d7356b2dcdc9",
   "metadata": {},
   "outputs": [],
   "source": []
  }
 ],
 "metadata": {
  "kernelspec": {
   "display_name": "Python 3",
   "language": "python",
   "name": "python3"
  },
  "language_info": {
   "codemirror_mode": {
    "name": "ipython",
    "version": 3
   },
   "file_extension": ".py",
   "mimetype": "text/x-python",
   "name": "python",
   "nbconvert_exporter": "python",
   "pygments_lexer": "ipython3",
   "version": "3.8.8"
  }
 },
 "nbformat": 4,
 "nbformat_minor": 5
}
