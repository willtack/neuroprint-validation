{
 "cells": [
  {
   "cell_type": "markdown",
   "metadata": {},
   "source": [
    "## Run neuroprint analyses for Neuroprint Validation"
   ]
  },
  {
   "cell_type": "code",
   "execution_count": 5,
   "metadata": {},
   "outputs": [],
   "source": [
    "import flywheel\n",
    "import pandas as pd\n",
    "from datetime import datetime\n",
    "\n",
    "fw = flywheel.Client()\n",
    "gear = fw.lookup('gears/wscore-ct-heatmap/0.4.0_0.4.0') \n",
    "project_id = '60fef55e60ec55d1b0e0741e'\n",
    "collection_id = '618d6fb6bb845b310730d8f8'\n",
    "project = fw.get(project_id) # \n",
    "collection = fw.get(collection_id) # neuroprint validation 2\n",
    "gear = 'antsct-aging-fw'\n",
    "gear_fw = fw.lookup('gears/antsct-aging-fw/0.3.1_0.3.3')"
   ]
  },
  {
   "cell_type": "code",
   "execution_count": 6,
   "metadata": {},
   "outputs": [],
   "source": [
    "project_sessions = [fw.get_session(x.id) for x in fw.get_project_sessions(project_id)]"
   ]
  },
  {
   "cell_type": "code",
   "execution_count": 13,
   "metadata": {},
   "outputs": [
    {
     "name": "stdout",
     "output_type": "stream",
     "text": [
      "antsct_sub-103466_ses-20130520-1400.zip\n",
      "58.0\n",
      "antsct_sub-103466_ses-20150616-1013.zip\n",
      "60.0\n",
      "antsct_sub-118430_ses-20131121-1403.zip\n",
      "54.0\n",
      "antsct_sub-118430_ses-201607121512.zip\n",
      "57.0\n",
      "antsct_sub-119454_ses-20141029-1558.zip\n",
      "50.0\n",
      "antsct_sub-119454_ses-20170721-1312.zip\n",
      "53.0\n",
      "antsct_sub-121200_ses-20160721-1312.zip\n",
      "69.0\n",
      "antsct_sub-121200_ses-20190722-1653.zip\n",
      "72.0\n",
      "antsct_sub-122632_ses-20171005-1302.zip\n",
      "63.0\n",
      "antsct_sub-122733_ses-20171012-1608.zip\n",
      "70.0\n",
      "antsct_sub-122905_ses-20180104-1502.zip\n",
      "56.0\n",
      "antsct_sub-122905_ses-20190430-1404.zip\n",
      "57.0\n",
      "antsct_sub-123145_ses-201808011431.zip\n",
      "72.0\n",
      "antsct_sub-123145_ses-20190925-0926.zip\n",
      "73.0\n"
     ]
    }
   ],
   "source": [
    "for session in project_sessions:\n",
    "    for analysis in session.analyses:          \n",
    "        if 'antsct' in analysis.label and analysis.job['state']=='complete' and analysis.files:\n",
    "            # get antsct zip file\n",
    "            zip_file = [f for f in analysis.files if f.name.endswith('.zip')][0]\n",
    "            print(zip_file.name)\n",
    "            # get patient age\n",
    "            age_secs = session.age\n",
    "            age_years = age_secs / (60*60*24*365.25) \n",
    "            print(age_years)\n",
    "            # get patient sex and convert to binary\n",
    "            sex=subject.sex\n",
    "            if sex is 'male':\n",
    "                sex_bin = 0\n",
    "            elif sex is 'female':\n",
    "                sex_bin = 1\n",
    "            else:\n",
    "                print(\"Did not recognize sex\")\n",
    "                exit()\n",
    "            \n",
    "            inputs = {\"antsct_output\": zip_file}\n",
    "            config = {\"patient_age\": age_years, \"patient_sex\": sex_bin, wthresholds': \"0.0 1.0 1.5\"}\n",
    "            #analysis_id = gear.run(analysis_label='neuroprint_2021-09-XX_WT', config=config, inputs=inputs, destination=session)\n",
    "            \n",
    "        else:\n",
    "            continue \n",
    "    "
   ]
  },
  {
   "cell_type": "code",
   "execution_count": null,
   "metadata": {},
   "outputs": [],
   "source": []
  },
  {
   "cell_type": "code",
   "execution_count": null,
   "metadata": {},
   "outputs": [],
   "source": []
  }
 ],
 "metadata": {
  "kernelspec": {
   "display_name": "Python 3",
   "language": "python",
   "name": "python3"
  },
  "language_info": {
   "codemirror_mode": {
    "name": "ipython",
    "version": 3
   },
   "file_extension": ".py",
   "mimetype": "text/x-python",
   "name": "python",
   "nbconvert_exporter": "python",
   "pygments_lexer": "ipython3",
   "version": "3.9.4"
  }
 },
 "nbformat": 4,
 "nbformat_minor": 4
}
