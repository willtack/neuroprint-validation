{
 "cells": [
  {
   "cell_type": "code",
   "execution_count": 49,
   "id": "074ebe9e-c10c-4502-aaf9-d182158853f9",
   "metadata": {},
   "outputs": [],
   "source": [
    "import flywheel\n",
    "import pandas as pd\n",
    "from datetime import datetime\n",
    "import os \n",
    "import glob\n",
    "\n",
    "fw = flywheel.Client()\n",
    "gear = 'deid-export'\n",
    "gear_fw = fw.lookup(f'gears/{gear}')\n",
    "collection_id = '618d6fb6bb845b310730d8f8' # Neuroprint Validation collection\n",
    "project_id = '60fef55e60ec55d1b0e0741e' # Neuroprint Validation project\n",
    "project = fw.get(project_id)\n",
    "collection = fw.get(collection_id)"
   ]
  },
  {
   "cell_type": "markdown",
   "id": "e1d83dd5-6509-4d19-91de-9b80847a2f0a",
   "metadata": {},
   "source": [
    "## Run gear to move sessions"
   ]
  },
  {
   "cell_type": "code",
   "execution_count": 67,
   "id": "d8ee5246-a3d5-4103-ac5a-3cf035cae3eb",
   "metadata": {},
   "outputs": [],
   "source": [
    "collection_sessions = [fw.get_session(x.id) for x in fw.get_collection_sessions(collection_id)]"
   ]
  },
  {
   "cell_type": "code",
   "execution_count": 40,
   "id": "c2a7191d-5b07-4f66-ad9b-7f094acf035d",
   "metadata": {},
   "outputs": [],
   "source": [
    "for ses in collection_sessions[0:2]:\n",
    "    project = fw.get(session.parents['project'])\n",
    "    deid_profile_list = [f for f in project.files if 'blank-export' in f.name]\n",
    "    if len(deid_profile_list) > 0:\n",
    "        inputs = {\"deid_profile\": deid_profile_list[0]}\n",
    "        config = {\"project_path\": 'detre_group/Neuroprint Validation', 'overwrite_files': True}\n",
    "        asys_label = 'deid-export_WT_NeuroprintValidation'\n",
    "        analysis_id = gear_fw.run(analysis_label=asys_label, config=config, inputs=inputs, destination=ses)"
   ]
  },
  {
   "cell_type": "code",
   "execution_count": 41,
   "id": "23d5116e-fe62-465e-ba6a-63685db53d56",
   "metadata": {},
   "outputs": [
    {
     "data": {
      "text/html": [
       "<div>\n",
       "<style scoped>\n",
       "    .dataframe tbody tr th:only-of-type {\n",
       "        vertical-align: middle;\n",
       "    }\n",
       "\n",
       "    .dataframe tbody tr th {\n",
       "        vertical-align: top;\n",
       "    }\n",
       "\n",
       "    .dataframe thead th {\n",
       "        text-align: right;\n",
       "    }\n",
       "</style>\n",
       "<table border=\"1\" class=\"dataframe\">\n",
       "  <thead>\n",
       "    <tr style=\"text-align: right;\">\n",
       "      <th></th>\n",
       "      <th>subject</th>\n",
       "      <th>session</th>\n",
       "      <th>run</th>\n",
       "    </tr>\n",
       "  </thead>\n",
       "  <tbody>\n",
       "    <tr>\n",
       "      <th>0</th>\n",
       "      <td>123894</td>\n",
       "      <td>123894x20190327x3T</td>\n",
       "      <td>True</td>\n",
       "    </tr>\n",
       "    <tr>\n",
       "      <th>1</th>\n",
       "      <td>100049</td>\n",
       "      <td>100049x20160621x3T</td>\n",
       "      <td>True</td>\n",
       "    </tr>\n",
       "  </tbody>\n",
       "</table>\n",
       "</div>"
      ],
      "text/plain": [
       "  subject             session   run\n",
       "0  123894  123894x20190327x3T  True\n",
       "1  100049  100049x20160621x3T  True"
      ]
     },
     "execution_count": 41,
     "metadata": {},
     "output_type": "execute_result"
    }
   ],
   "source": [
    "# check status real quick\n",
    "data_dict = {'subject':[],'session':[],'run':[]}\n",
    "for ses in collection_sessions[0:2]:\n",
    "    session = ses.reload()\n",
    "    sub_label = session.subject.label\n",
    "    ses_label = session.label\n",
    "    analyses = session.analyses\n",
    "\n",
    "    if len(analyses) == 0:\n",
    "        run = 'False'\n",
    "    else:\n",
    "        # Loop through the analyses\n",
    "        matches = [asys for asys in analyses if asys.gear_info.get('name') == gear]\n",
    "        if len(matches) == 0:\n",
    "            run = 'False'\n",
    "        elif len(matches) == 1:\n",
    "            run = 'True'\n",
    "        else:\n",
    "            run = 'True (multiple)'\n",
    "            \n",
    "    data_dict['subject'].append(sub_label)\n",
    "    data_dict['session'].append(ses_label)\n",
    "    data_dict['run'].append(run)\n",
    "\n",
    "df = pd.DataFrame.from_dict(data_dict)\n",
    "df"
   ]
  },
  {
   "cell_type": "code",
   "execution_count": 68,
   "id": "c2a30dbc-417b-4a4b-91e1-ae143d523039",
   "metadata": {},
   "outputs": [
    {
     "name": "stdout",
     "output_type": "stream",
     "text": [
      "Deleted deid-export_WT_NeuroprintValidation from 123894x20190327x3T.\n",
      "Deleted deid-export_WT_NeuroprintValidation from 100049x20160621x3T.\n"
     ]
    }
   ],
   "source": [
    "# delete gear runs (they'll still remain in provenance, but will be out of sight for other people)\n",
    "for ses in collection_sessions[0:2]:\n",
    "    for analysis in ses.analyses:\n",
    "        if 'deid-export_WT_NeuroprintValidation' in analysis.label:\n",
    "            fw.delete_session_analysis(ses.id, analysis.id)\n",
    "            print(f\"Deleted {analysis.label} from {ses.label}.\")"
   ]
  },
  {
   "cell_type": "markdown",
   "id": "9883ebf7-ad77-4598-adbd-655bd9b48939",
   "metadata": {},
   "source": [
    "## Remove non-T1 acquisitions"
   ]
  },
  {
   "cell_type": "code",
   "execution_count": 51,
   "id": "f94b28c2-a8f8-4652-8a57-634a76a552ee",
   "metadata": {},
   "outputs": [],
   "source": [
    "project_sessions = [fw.get_session(x.id) for x in fw.get_project_sessions(project_id)]"
   ]
  },
  {
   "cell_type": "code",
   "execution_count": 61,
   "id": "fc016c50-8ef1-45a6-8fe9-50787c9961d3",
   "metadata": {},
   "outputs": [
    {
     "data": {
      "text/html": [
       "<div>\n",
       "<style scoped>\n",
       "    .dataframe tbody tr th:only-of-type {\n",
       "        vertical-align: middle;\n",
       "    }\n",
       "\n",
       "    .dataframe tbody tr th {\n",
       "        vertical-align: top;\n",
       "    }\n",
       "\n",
       "    .dataframe thead th {\n",
       "        text-align: right;\n",
       "    }\n",
       "</style>\n",
       "<table border=\"1\" class=\"dataframe\">\n",
       "  <thead>\n",
       "    <tr style=\"text-align: right;\">\n",
       "      <th></th>\n",
       "      <th>session</th>\n",
       "      <th>acquisition</th>\n",
       "      <th>status</th>\n",
       "    </tr>\n",
       "  </thead>\n",
       "  <tbody>\n",
       "    <tr>\n",
       "      <th>21</th>\n",
       "      <td>123894x20190327x3T</td>\n",
       "      <td>T1_3D_0.8x0.8x0.8</td>\n",
       "      <td>kept</td>\n",
       "    </tr>\n",
       "    <tr>\n",
       "      <th>31</th>\n",
       "      <td>100049x20160621x3T</td>\n",
       "      <td>T1_3D_0.8x0.8x0.8</td>\n",
       "      <td>kept</td>\n",
       "    </tr>\n",
       "    <tr>\n",
       "      <th>0</th>\n",
       "      <td>123894x20190327x3T</td>\n",
       "      <td>AAHead_Scout_MPR_sag</td>\n",
       "      <td>deleted</td>\n",
       "    </tr>\n",
       "    <tr>\n",
       "      <th>36</th>\n",
       "      <td>100049x20160621x3T</td>\n",
       "      <td>TOF_3D_multi-slab_MIP_SAG</td>\n",
       "      <td>deleted</td>\n",
       "    </tr>\n",
       "    <tr>\n",
       "      <th>27</th>\n",
       "      <td>100049x20160621x3T</td>\n",
       "      <td>Mag_Images</td>\n",
       "      <td>deleted</td>\n",
       "    </tr>\n",
       "  </tbody>\n",
       "</table>\n",
       "</div>"
      ],
      "text/plain": [
       "               session                acquisition   status\n",
       "21  123894x20190327x3T          T1_3D_0.8x0.8x0.8     kept\n",
       "31  100049x20160621x3T          T1_3D_0.8x0.8x0.8     kept\n",
       "0   123894x20190327x3T       AAHead_Scout_MPR_sag  deleted\n",
       "36  100049x20160621x3T  TOF_3D_multi-slab_MIP_SAG  deleted\n",
       "27  100049x20160621x3T                 Mag_Images  deleted"
      ]
     },
     "execution_count": 61,
     "metadata": {},
     "output_type": "execute_result"
    }
   ],
   "source": [
    "delete_dict = {'session':[], 'acquisition':[],'status':[]}\n",
    "for ses in project_sessions:\n",
    "    acqlist = ses.acquisitions()\n",
    "    for acq in acqlist:        \n",
    "        lab = acq.label.lower()\n",
    "        if (\"vnav\" in lab) and (\"moco\" in lab) and (\"rms\" in lab) and not (\"nd\" in lab):\n",
    "            status = 'kept'\n",
    "        elif (\"vnav\" in lab) and (\"rms\" in lab) and not (\"nd\" in lab):\n",
    "            status = 'kept'\n",
    "        elif (\"ax\" in lab) and (\"mprage\" in lab):\n",
    "            status = 'kept'\n",
    "        elif (\"sag\" in lab) and (\"mprage\" in lab):\n",
    "            status = 'kept'\n",
    "        elif (\"t1_3d\" in lab and not (\"nd\" in lab)): #NACC\n",
    "            status = 'kept'\n",
    "        else:\n",
    "            fw.delete_acquisition(acq.id)\n",
    "            status='deleted'\n",
    "\n",
    "        delete_dict['session'].append(ses.label)\n",
    "        delete_dict['acquisition'].append(acq.label)\n",
    "        delete_dict['status'].append(status)\n",
    "        \n",
    "\n",
    "delete_df = pd.DataFrame.from_dict(delete_dict)\n",
    "delete_df = delete_df.sort_values('status', ascending=False) # show what's kept at the top\n",
    "delete_df.head()"
   ]
  },
  {
   "cell_type": "code",
   "execution_count": 18,
   "id": "9040d7ee-deb8-4157-9a0e-1d7e8acaa417",
   "metadata": {},
   "outputs": [],
   "source": [
    "# Append a timestamp to our csv name so it won't overwrite anything when we upload it to flywheel\n",
    "time_fmt = '%m-%d-%Y_%H-%M-%S'\n",
    "time_string = datetime.now().strftime(time_fmt)\n",
    "csv_out = f'../run_reports/{gear}_DeletionReport_{time_string}.csv'\n",
    "\n",
    "delete_df.to_csv(csv_out,index=False)\n",
    "\n",
    "#project.upload_file(csv_out)"
   ]
  },
  {
   "cell_type": "markdown",
   "id": "451c2a9c-ca4a-40aa-972b-6b4555d14013",
   "metadata": {},
   "source": [
    "## Move ANTs analyses to new project"
   ]
  },
  {
   "cell_type": "code",
   "execution_count": 69,
   "id": "60fc1e7e-7abe-4649-99fb-4f6665c394db",
   "metadata": {},
   "outputs": [],
   "source": [
    "# download the analysis data from the collection\n",
    "ants_gear = 'antsct-aging-fw'\n",
    "for ses in collection_sessions[0:2]:\n",
    "    adir = os.path.join('/media/will/Samsung_T5/store/analyses', ses.subject.label, ses.label)\n",
    "    os.makedirs(adir,exist_ok=True)\n",
    "    for asys in ses.analyses:\n",
    "        if (asys.gear_info.get('name') == ants_gear) and (asys.job['state']=='complete') and (asys.files):\n",
    "            # select file and download\n",
    "            antsct_output = [f for f in asys.files if f.name.endswith('zip')][0].name\n",
    "            asys.download_file(antsct_output, f'{adir}/{antsct_output}')\n",
    "            # record label in text output\n",
    "            with open(f'{adir}/label.txt', 'w') as f:\n",
    "                f.write(asys.label)\n"
   ]
  },
  {
   "cell_type": "code",
   "execution_count": null,
   "id": "ecd8d39a-acb2-4078-8088-3a74e14e8d4b",
   "metadata": {},
   "outputs": [
    {
     "name": "stdout",
     "output_type": "stream",
     "text": [
      "{'type': 'acquisition', 'id': '619537efdd46e7e76fc3b392', 'name': '1.3.12.2.1107.5.2.43.66044.2019032710053479167074791.0.0.0.nii.gz'}\n",
      "/media/will/Samsung_T5/store/analyses/123894/123894x20190327x3T/antsct_sub-123894_ses-123894x20190327x3T.zip\n"
     ]
    }
   ],
   "source": [
    "# create analyses in Flywheel project\n",
    "for ses in project_sessions:\n",
    "    # get the input T1 file, which should already be in the session's acquisitions\n",
    "    acq = ses.acquisitions()[0] # should only be one after deletion\n",
    "    nii = [f for f in acq.files if f.name.endswith('.nii.gz')][0]\n",
    "    file_ref = acq.get_file(nii.name).ref()\n",
    "    print(file_ref)    \n",
    "    \n",
    "    # create the analysis container \n",
    "    adir = os.path.join('/media/will/Samsung_T5/store/analyses', ses.subject.label, ses.label)\n",
    "    try:\n",
    "        with open (f\"{adir}/label.txt\", \"r\") as label: # read the label text\n",
    "            lab=label.readlines()\n",
    "        os.remove(f\"{adir}/label.txt\")\n",
    "    except FileNotFoundError as e:\n",
    "        print(e)\n",
    "        continue\n",
    "        \n",
    "    asys_label = lab[0]\n",
    "    asys = ses.add_analysis(label=asys_label,inputs=[file_ref])\n",
    "    \n",
    "    # upload the results zip file \n",
    "    zip_file = glob.glob(adir+\"/*.zip\")[0]\n",
    "    print(zip_file)\n",
    "    asys.upload_output(zip_file)\n"
   ]
  },
  {
   "cell_type": "code",
   "execution_count": null,
   "id": "a4b049e8-e455-4041-8229-142547772dc3",
   "metadata": {},
   "outputs": [],
   "source": []
  }
 ],
 "metadata": {
  "kernelspec": {
   "display_name": "Python 3",
   "language": "python",
   "name": "python3"
  },
  "language_info": {
   "codemirror_mode": {
    "name": "ipython",
    "version": 3
   },
   "file_extension": ".py",
   "mimetype": "text/x-python",
   "name": "python",
   "nbconvert_exporter": "python",
   "pygments_lexer": "ipython3",
   "version": "3.9.4"
  }
 },
 "nbformat": 4,
 "nbformat_minor": 5
}
