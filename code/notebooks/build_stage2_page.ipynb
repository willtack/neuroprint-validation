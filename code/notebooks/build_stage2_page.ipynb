{
 "cells": [
  {
   "cell_type": "code",
   "execution_count": 37,
   "id": "752582bd-2212-4a53-a3d6-e4bb75a2eeb9",
   "metadata": {},
   "outputs": [
    {
     "data": {
      "text/plain": [
       "['../stages/stage2_test/random1.png',\n",
       " '../stages/stage2_test/dsafsd.png',\n",
       " '../stages/stage2_test/random32413.png']"
      ]
     },
     "execution_count": 37,
     "metadata": {},
     "output_type": "execute_result"
    }
   ],
   "source": [
    "# copy downloaded heatmaps to stages/stage2/\n",
    "from distutils.dir_util import copy_tree\n",
    "\n",
    "heatmapdir = \"./heatmaps\"\n",
    "stage2dir = \"../stages/stage2_test\"\n",
    "\n",
    "copy_tree(heatmapdir, stage2dir)"
   ]
  },
  {
   "cell_type": "code",
   "execution_count": 38,
   "id": "284ef927-903c-4536-b980-fdafecec204c",
   "metadata": {},
   "outputs": [
    {
     "name": "stdout",
     "output_type": "stream",
     "text": [
      "random1.png\n",
      "dsafsd.png\n",
      "random32413.png\n",
      "['../stages/stage2_test/Subject1.png', '../stages/stage2_test/Subject2.png', '../stages/stage2_test/Subject3.png']\n"
     ]
    }
   ],
   "source": [
    "from os import listdir, rename\n",
    "from os.path import isfile, join\n",
    "\n",
    "# rename files\n",
    "image_files = []\n",
    "i=1\n",
    "for img in listdir(stage2dir):\n",
    "    print(img)\n",
    "    anon_name = join(stage2dir, 'subject'+str(i)+'.png')\n",
    "    rename(join(stage2dir, img), anon_name)\n",
    "    image_files.append(anon_name)\n",
    "    i=i+1      \n",
    "\n",
    "image_files.sort()\n",
    "print(image_files)\n"
   ]
  },
  {
   "cell_type": "code",
   "execution_count": 39,
   "id": "9a4768d9-5398-4e90-b199-d2f534de510a",
   "metadata": {},
   "outputs": [
    {
     "name": "stdout",
     "output_type": "stream",
     "text": [
      "['![Subject 1](/stages/stage2/subject1.png) \\n', '![Subject 2](/stages/stage2/subject2.png) \\n', '![Subject 3](/stages/stage2/subject3.png) \\n']\n"
     ]
    }
   ],
   "source": [
    "# write image links in stage2.md\n",
    "lines = []\n",
    "for n in range(1, len(image_files) + 1):\n",
    "    line_str = \"![Subject {0}](/stages/stage2/subject{0}.png) \\n\".format(n)\n",
    "    lines.append(line_str)\n",
    "    \n",
    "print(lines)\n",
    "    \n",
    "with open('../stage2_test.md', 'a+') as f:\n",
    "    f.writelines(\"%s\\n\" % l for l in lines)"
   ]
  }
 ],
 "metadata": {
  "kernelspec": {
   "display_name": "Python 3",
   "language": "python",
   "name": "python3"
  },
  "language_info": {
   "codemirror_mode": {
    "name": "ipython",
    "version": 3
   },
   "file_extension": ".py",
   "mimetype": "text/x-python",
   "name": "python",
   "nbconvert_exporter": "python",
   "pygments_lexer": "ipython3",
   "version": "3.8.8"
  }
 },
 "nbformat": 4,
 "nbformat_minor": 5
}
