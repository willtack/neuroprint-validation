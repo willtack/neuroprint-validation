{
 "cells": [
  {
   "cell_type": "code",
   "execution_count": 11,
   "id": "245aace5-e7f2-4f96-b25d-0f095bda03cf",
   "metadata": {},
   "outputs": [],
   "source": [
    "import flywheel\n",
    "fw = flywheel.Client()\n",
    "gear = 'antsct-aging-fw'\n",
    "session = fw.get('5e27f036048f71007905f674')"
   ]
  },
  {
   "cell_type": "code",
   "execution_count": 16,
   "id": "bcf15eb8-4857-49ab-a623-65243096c818",
   "metadata": {
    "tags": []
   },
   "outputs": [
    {
     "name": "stdout",
     "output_type": "stream",
     "text": [
      "125098_20190710x1517_antsct-aging-fw_0.2.2_0.3.3_2021-09-10_17:33\n"
     ]
    }
   ],
   "source": [
    "for analysis in session.analyses:\n",
    "        if analysis.gear_info.get('name') == gear and analysis.job['state']=='complete' and analysis.files:\n",
    "            print(analysis.label)\n",
    "            antsct_output = [f for f in analysis.files if f.name.endswith('zip')]\n",
    "            antsct_input = analysis.inputs[0]\n",
    "            analysis.download_file(antsct_output[0].name, antsct_output[0].name)\n",
    "            fw.download_input_from_session_analysis(session.id, analysis.id, antsct_input.name, antsct_input.name)"
   ]
  },
  {
   "cell_type": "code",
   "execution_count": 27,
   "id": "7d7cd5f3-b6c3-47bb-942e-043614d785d9",
   "metadata": {},
   "outputs": [],
   "source": [
    "new_session = fw.get('610aca99a58c89780fa2e0bd')\n",
    "acquisition = new_session.add_acquisition(label='ABCD_T1w_MPR_vNav_moco')\n",
    "\n",
    "acquisition.upload_file('ABCD_T1w_MPR_vNav_moco_28.nii.gz')\n",
    "\n",
    "\n",
    "#file_ref = acquisition.get_file('ABCD_T1w_MPR_vNav_moco_28.nii.gz').ref()\n"
   ]
  },
  {
   "cell_type": "code",
   "execution_count": 28,
   "id": "8b2a1e78-583f-4758-bb54-24b7ce45ac58",
   "metadata": {},
   "outputs": [
    {
     "ename": "AttributeError",
     "evalue": "'NoneType' object has no attribute 'ref'",
     "output_type": "error",
     "traceback": [
      "\u001b[0;31m---------------------------------------------------------------------------\u001b[0m",
      "\u001b[0;31mAttributeError\u001b[0m                            Traceback (most recent call last)",
      "\u001b[0;32m<ipython-input-28-da8dae4491ab>\u001b[0m in \u001b[0;36m<module>\u001b[0;34m\u001b[0m\n\u001b[0;32m----> 1\u001b[0;31m \u001b[0mfile_ref\u001b[0m \u001b[0;34m=\u001b[0m \u001b[0macquisition\u001b[0m\u001b[0;34m.\u001b[0m\u001b[0mget_file\u001b[0m\u001b[0;34m(\u001b[0m\u001b[0;34m'ABCD_T1w_MPR_vNav_moco_28.nii.gz'\u001b[0m\u001b[0;34m)\u001b[0m\u001b[0;34m.\u001b[0m\u001b[0mref\u001b[0m\u001b[0;34m(\u001b[0m\u001b[0;34m)\u001b[0m\u001b[0;34m\u001b[0m\u001b[0;34m\u001b[0m\u001b[0m\n\u001b[0m",
      "\u001b[0;31mAttributeError\u001b[0m: 'NoneType' object has no attribute 'ref'"
     ]
    }
   ],
   "source": [
    "file_ref = acquisition.get_file('ABCD_T1w_MPR_vNav_moco_28.nii.gz').ref()"
   ]
  },
  {
   "cell_type": "code",
   "execution_count": 38,
   "id": "efe2912e-4d94-490c-831c-fbad2531d3bf",
   "metadata": {},
   "outputs": [
    {
     "name": "stdout",
     "output_type": "stream",
     "text": [
      "T1_3D_0.8x0.8x0.8\n",
      "2\n",
      "T1_3D_0.8x0.8x0.8_ND\n",
      "2\n",
      "ABCD_T1w_MPR_vNav_moco\n",
      "0\n",
      "ABCD_T1w_MPR_vNav_moco\n",
      "1\n"
     ]
    }
   ],
   "source": [
    "for acq in new_session.acquisitions():\n",
    "    print(acq.label)\n",
    "    print(len(acq.files))"
   ]
  },
  {
   "cell_type": "code",
   "execution_count": 42,
   "id": "1652a555-443a-4e31-a8c2-3ebd73da19eb",
   "metadata": {},
   "outputs": [],
   "source": [
    "file_ref = acq.get_file('ABCD_T1w_MPR_vNav_moco_28.nii.gz').ref()"
   ]
  },
  {
   "cell_type": "code",
   "execution_count": 44,
   "id": "cb16efa2-37d7-4e72-a51e-b10d480d7b5b",
   "metadata": {
    "tags": []
   },
   "outputs": [],
   "source": [
    "asys = new_session.add_analysis(label='test',inputs=[file_ref])\n",
    "\n",
    "asys.upload_output('antsct_sub-125098_ses-20190710x1517.zip')\n"
   ]
  }
 ],
 "metadata": {
  "kernelspec": {
   "display_name": "Python 3",
   "language": "python",
   "name": "python3"
  },
  "language_info": {
   "codemirror_mode": {
    "name": "ipython",
    "version": 3
   },
   "file_extension": ".py",
   "mimetype": "text/x-python",
   "name": "python",
   "nbconvert_exporter": "python",
   "pygments_lexer": "ipython3",
   "version": "3.8.8"
  }
 },
 "nbformat": 4,
 "nbformat_minor": 5
}
