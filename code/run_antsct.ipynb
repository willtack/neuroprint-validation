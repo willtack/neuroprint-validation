{
 "cells": [
  {
   "cell_type": "markdown",
   "metadata": {},
   "source": [
    "## Run ANTs-CT analyses for Neuroprint Validation"
   ]
  },
  {
   "cell_type": "code",
   "execution_count": 2,
   "metadata": {},
   "outputs": [],
   "source": [
    "import flywheel\n",
    "fw = flywheel.Client()\n",
    "gear = fw.lookup('gears/antsct-aging-fw')\n",
    "project_id = '60fef55e60ec55d1b0e0741e'"
   ]
  },
  {
   "cell_type": "code",
   "execution_count": 3,
   "metadata": {},
   "outputs": [
    {
     "name": "stdout",
     "output_type": "stream",
     "text": [
      "done\n"
     ]
    }
   ],
   "source": [
    "sessions = [fw.get_session(x.id) for x in fw.get_project_sessions(collection_id)]"
   ]
  },
  {
   "cell_type": "markdown",
   "metadata": {},
   "source": [
    "### For each session, select appropriate acquisition and run gear on"
   ]
  },
  {
   "cell_type": "code",
   "execution_count": 5,
   "metadata": {},
   "outputs": [],
   "source": [
    "def run_gear(sessions, label):\n",
    "    \"\"\"\n",
    "    Execute a series of Flywheel gear runs based on provided sessions.\n",
    "    \n",
    "    sessions: list of Flywheel session objects\n",
    "    label: string of label ID\n",
    "    \n",
    "    \"\"\"\n",
    "    \n",
    "    input_t1s = []\n",
    "    no_t1_sessions = []\n",
    "    analysis_ids = []\n",
    "    for session in sessions:\n",
    "        # Get acquisition\n",
    "        for acq in session.acquisitions():\n",
    "            class_t1 = False\n",
    "            class_struct_intent = False\n",
    "            class_mprage = False\n",
    "            if acq.files and len(acq.files) > 0:\n",
    "#                 for i in range(0, len(acq.files)):\n",
    "#                     try: \n",
    "#                         class_t1 = 'T1' in acq.files[i]['classification']['Measurement'] \n",
    "#                         class_struct_intent = 'Structural' in acq.files[i]['classification']['Intent']\n",
    "#                         class_mprage = 'MPRAGE' in acq.files[i]['classification']['Features']\n",
    "#                     except TypeError as te:\n",
    "#                         continue\n",
    "#                     except KeyError as ke:\n",
    "#                         continue                \n",
    "#                     break                    \n",
    "\n",
    "\n",
    "        # Run the gear\n",
    "        inputs = {'t1_anatomy': input_file}\n",
    "        config = {'denoise': True, 'num-threads': 1, 'trim-neck-mode': 'mask', 'run-quick': False}\n",
    "        analysis_id = gear.run(analysis_label=label, config=config, inputs=inputs, destination=session)\n",
    "        analysis_ids.append(analysis_id)\n",
    "        \n",
    "    return input_t1s, no_t1_sessions, analysis_ids"
   ]
  },
  {
   "cell_type": "code",
   "execution_count": null,
   "metadata": {},
   "outputs": [],
   "source": [
    "# (input_t1s, no_t1_sessions, analysis_ids) = run_gear(sessions)"
   ]
  },
  {
   "cell_type": "markdown",
   "metadata": {},
   "source": [
    "### Re-do failed runs"
   ]
  },
  {
   "cell_type": "markdown",
   "metadata": {},
   "source": [
    "### Sanity check the length and contents of the list of T1 acquisitions"
   ]
  },
  {
   "cell_type": "code",
   "execution_count": 9,
   "metadata": {},
   "outputs": [
    {
     "name": "stdout",
     "output_type": "stream",
     "text": [
      "53\n"
     ]
    }
   ],
   "source": [
    "print(len(input_t1s))"
   ]
  },
  {
   "cell_type": "code",
   "execution_count": 11,
   "metadata": {},
   "outputs": [
    {
     "name": "stdout",
     "output_type": "stream",
     "text": [
      "0\n"
     ]
    },
    {
     "data": {
      "text/plain": [
       "[]"
      ]
     },
     "execution_count": 11,
     "metadata": {},
     "output_type": "execute_result"
    }
   ],
   "source": [
    "print(len(no_t1_sessions))\n",
    "print(no_t1_sessions)"
   ]
  },
  {
   "cell_type": "code",
   "execution_count": 2,
   "metadata": {},
   "outputs": [],
   "source": [
    "for t1 in f_input_t1s:\n",
    "    sub = fw.get(t1.parents['subject'])\n",
    "    ses = fw.get(t1.parents['session'])\n",
    "    print('{} | {} | {}'.format(t1.label, sub.label, ses.label))"
   ]
  }
 ],
 "metadata": {
  "kernelspec": {
   "display_name": "Python 3",
   "language": "python",
   "name": "python3"
  },
  "language_info": {
   "codemirror_mode": {
    "name": "ipython",
    "version": 3
   },
   "file_extension": ".py",
   "mimetype": "text/x-python",
   "name": "python",
   "nbconvert_exporter": "python",
   "pygments_lexer": "ipython3",
   "version": "3.8.8"
  }
 },
 "nbformat": 4,
 "nbformat_minor": 4
}
