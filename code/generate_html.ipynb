{
 "cells": [
  {
   "cell_type": "code",
   "execution_count": 37,
   "id": "27282a62-df1a-4630-b4fd-b10b1038e3c5",
   "metadata": {},
   "outputs": [
    {
     "name": "stdout",
     "output_type": "stream",
     "text": [
      "HC005\n",
      "t1s/sub-HC005_ses-MR_BASELINE_t1.nii.gz\n"
     ]
    },
    {
     "name": "stderr",
     "output_type": "stream",
     "text": [
      "/home/will/.local/lib/python3.9/site-packages/nilearn/_utils/param_validation.py:72: UserWarning: The given float value must not exceed 0.0. But, you have given threshold=1e-06 \n",
      "  warnings.warn(\"The given float value must not exceed {0}. \"\n"
     ]
    },
    {
     "name": "stdout",
     "output_type": "stream",
     "text": [
      "120870\n",
      "t1s/sub-120870_ses-120870x20191205x3T_t1.nii.gz\n",
      "HC003\n",
      "t1s/sub-HC003_ses-MR_BASELINE_t1.nii.gz\n"
     ]
    },
    {
     "name": "stderr",
     "output_type": "stream",
     "text": [
      "/home/will/.local/lib/python3.9/site-packages/nilearn/_utils/param_validation.py:72: UserWarning: The given float value must not exceed 0.0. But, you have given threshold=1e-06 \n",
      "  warnings.warn(\"The given float value must not exceed {0}. \"\n"
     ]
    },
    {
     "name": "stdout",
     "output_type": "stream",
     "text": [
      "HC002\n",
      "t1s/sub-HC002_ses-MR_FOLLOWUP_t1.nii.gz\n",
      "124022\n",
      "t1s/sub-124022_ses-124022x20191210x3T_t1.nii.gz\n"
     ]
    }
   ],
   "source": [
    "# convert the T1 niftis to interactive HTML plots for the website\n",
    "\n",
    "from nilearn import plotting\n",
    "import os\n",
    "import pandas as pd\n",
    "\n",
    "datadir='t1s'\n",
    "for t1 in os.listdir(datadir):\n",
    "    # filter out already blanked images and non-image files\n",
    "    if 'blank' in t1 or 'nii' not in t1:\n",
    "        continue\n",
    "        \n",
    "    # determine the index using the lookup table\n",
    "    sub_label = t1.split('sub-')[1].split('_')[0]\n",
    "    print(sub_label)\n",
    "    \n",
    "    # read lookup table for subject pseudonyms for stage 1 \n",
    "    df = pd.read_csv('lookup_table.csv')\n",
    "    n = int(df[df['Subject Label']==sub_label]['Stage 1'])\n",
    "\n",
    "    t1_path = os.path.join(datadir, t1)\n",
    "    print(t1_path)\n",
    "    fstem = t1_path.split('.')[:-2][0]\n",
    "    empty_img = fstem + \"_blank.nii.gz\"\n",
    "    os.system(\"fslmaths {} -mul 0 {}\".format(t1_path, empty_img))\n",
    "\n",
    "    html_view = plotting.view_img(empty_img, bg_img=t1_path, black_bg=True, cut_coords=[0,10,17], colorbar=False, title=\"Subject\"+str(n))\n",
    "    html_view.save_as_html('html/Subject%s.html' % n)\n"
   ]
  }
 ],
 "metadata": {
  "kernelspec": {
   "display_name": "Python 3",
   "language": "python",
   "name": "python3"
  },
  "language_info": {
   "codemirror_mode": {
    "name": "ipython",
    "version": 3
   },
   "file_extension": ".py",
   "mimetype": "text/x-python",
   "name": "python",
   "nbconvert_exporter": "python",
   "pygments_lexer": "ipython3",
   "version": "3.9.4"
  }
 },
 "nbformat": 4,
 "nbformat_minor": 5
}
